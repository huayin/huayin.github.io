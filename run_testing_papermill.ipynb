{
 "cells": [
  {
   "cell_type": "code",
   "execution_count": 1,
   "id": "d225f31d-1ee5-4077-82bf-75688d0c3221",
   "metadata": {},
   "outputs": [
    {
     "data": {
      "text/plain": [
       "{'a': {'name': 'a', 'inferred_type_name': 'None', 'default': '23', 'help': ''}}"
      ]
     },
     "execution_count": 1,
     "metadata": {},
     "output_type": "execute_result"
    }
   ],
   "source": [
    "import papermill as pm\n",
    "\n",
    "pm.inspect_notebook('testing_papermill.ipynb')"
   ]
  },
  {
   "cell_type": "code",
   "execution_count": 2,
   "id": "4b724d92-f022-4ff4-8f82-db3c64ecd8e9",
   "metadata": {},
   "outputs": [
    {
     "data": {
      "application/vnd.jupyter.widget-view+json": {
       "model_id": "0082ae1cf63044ada1f62c8f00827497",
       "version_major": 2,
       "version_minor": 0
      },
      "text/plain": [
       "Executing:   0%|          | 0/3 [00:00<?, ?cell/s]"
      ]
     },
     "metadata": {},
     "output_type": "display_data"
    }
   ],
   "source": [
    "rv = pm.execute_notebook(\n",
    "    'testing_papermill.ipynb',\n",
    "    'testing_papermill_output.ipynb',\n",
    "    parameters={'a':70}\n",
    ")"
   ]
  },
  {
   "cell_type": "code",
   "execution_count": null,
   "id": "04c63ff7-9214-497e-9b39-f53076c2895f",
   "metadata": {},
   "outputs": [],
   "source": [
    "def reqest_99():\n",
    "    pm.execute_notebook(\n",
    "    '',\n",
    "    ''\n",
    "    parameters=)\n"
   ]
  }
 ],
 "metadata": {
  "kernelspec": {
   "display_name": "Core",
   "language": "python",
   "name": "python3"
  },
  "language_info": {
   "codemirror_mode": {
    "name": "ipython",
    "version": 3
   },
   "file_extension": ".py",
   "mimetype": "text/x-python",
   "name": "python",
   "nbconvert_exporter": "python",
   "pygments_lexer": "ipython3",
   "version": "3.8.10"
  }
 },
 "nbformat": 4,
 "nbformat_minor": 5
}
